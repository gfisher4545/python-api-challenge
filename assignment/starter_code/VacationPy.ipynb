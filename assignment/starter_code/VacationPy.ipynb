{
 "cells": [
  {
   "cell_type": "markdown",
   "metadata": {},
   "source": [
    "# VacationPy\n",
    "----\n",
    "\n",
    "#### Note\n",
    "* Instructions have been included for each segment. You do not have to follow them exactly, but they are included to help you think through the steps."
   ]
  },
  {
   "cell_type": "code",
   "execution_count": 5,
   "metadata": {},
   "outputs": [],
   "source": [
    "# Dependencies and Setup\n",
    "import matplotlib.pyplot as plt\n",
    "import pandas as pd\n",
    "import numpy as np\n",
    "import requests\n",
    "import gmaps\n",
    "import os\n",
    "\n",
    "# Import API key\n",
    "from api_keys import g_key\n",
    ""
   ]
  },
  {
   "cell_type": "markdown",
   "metadata": {},
   "source": [
    "### Store Part I results into DataFrame\n",
    "* Load the csv exported in Part I to a DataFrame"
   ]
  },
  {
   "cell_type": "code",
   "execution_count": 10,
   "metadata": {},
   "outputs": [
    {
     "output_type": "execute_result",
     "data": {
      "text/plain": "     Unnamed: 0         City  Cloudiness Country  Humidity  Latitude  \\\n0             0     Bengkulu          98      ID        82     -3.80   \n1             1       Dikson          94      RU        96     73.51   \n2             2    Sept-Îles          90      CA        48     50.20   \n3             3       Atuona          71      PF        78     -9.80   \n4             4      Qaanaaq           9      GL        73     77.48   \n..          ...          ...         ...     ...       ...       ...   \n561         561    Morondava           0      MG        80    -20.28   \n562         562        Bilma          18      NE        12     18.69   \n563         563       Ocampo           4      MX        11     21.65   \n564         564        Bowen          40      AU        88    -20.02   \n565         565  Port-Gentil          31      GA        82     -0.72   \n\n     Longitude  Max Temp  Windspeed  \n0       102.27    298.62       1.11  \n1        80.55    261.90       4.89  \n2       -66.38    277.15       8.20  \n3      -139.03    300.76       7.38  \n4       -69.36    253.57       3.03  \n..         ...       ...        ...  \n561      44.28    299.23       4.92  \n562      12.92    299.67       3.46  \n563    -101.50    300.26       5.65  \n564     148.23    297.59       4.60  \n565       8.78    300.88       5.21  \n\n[566 rows x 9 columns]",
      "text/html": "<div>\n<style scoped>\n    .dataframe tbody tr th:only-of-type {\n        vertical-align: middle;\n    }\n\n    .dataframe tbody tr th {\n        vertical-align: top;\n    }\n\n    .dataframe thead th {\n        text-align: right;\n    }\n</style>\n<table border=\"1\" class=\"dataframe\">\n  <thead>\n    <tr style=\"text-align: right;\">\n      <th></th>\n      <th>Unnamed: 0</th>\n      <th>City</th>\n      <th>Cloudiness</th>\n      <th>Country</th>\n      <th>Humidity</th>\n      <th>Latitude</th>\n      <th>Longitude</th>\n      <th>Max Temp</th>\n      <th>Windspeed</th>\n    </tr>\n  </thead>\n  <tbody>\n    <tr>\n      <th>0</th>\n      <td>0</td>\n      <td>Bengkulu</td>\n      <td>98</td>\n      <td>ID</td>\n      <td>82</td>\n      <td>-3.80</td>\n      <td>102.27</td>\n      <td>298.62</td>\n      <td>1.11</td>\n    </tr>\n    <tr>\n      <th>1</th>\n      <td>1</td>\n      <td>Dikson</td>\n      <td>94</td>\n      <td>RU</td>\n      <td>96</td>\n      <td>73.51</td>\n      <td>80.55</td>\n      <td>261.90</td>\n      <td>4.89</td>\n    </tr>\n    <tr>\n      <th>2</th>\n      <td>2</td>\n      <td>Sept-Îles</td>\n      <td>90</td>\n      <td>CA</td>\n      <td>48</td>\n      <td>50.20</td>\n      <td>-66.38</td>\n      <td>277.15</td>\n      <td>8.20</td>\n    </tr>\n    <tr>\n      <th>3</th>\n      <td>3</td>\n      <td>Atuona</td>\n      <td>71</td>\n      <td>PF</td>\n      <td>78</td>\n      <td>-9.80</td>\n      <td>-139.03</td>\n      <td>300.76</td>\n      <td>7.38</td>\n    </tr>\n    <tr>\n      <th>4</th>\n      <td>4</td>\n      <td>Qaanaaq</td>\n      <td>9</td>\n      <td>GL</td>\n      <td>73</td>\n      <td>77.48</td>\n      <td>-69.36</td>\n      <td>253.57</td>\n      <td>3.03</td>\n    </tr>\n    <tr>\n      <th>...</th>\n      <td>...</td>\n      <td>...</td>\n      <td>...</td>\n      <td>...</td>\n      <td>...</td>\n      <td>...</td>\n      <td>...</td>\n      <td>...</td>\n      <td>...</td>\n    </tr>\n    <tr>\n      <th>561</th>\n      <td>561</td>\n      <td>Morondava</td>\n      <td>0</td>\n      <td>MG</td>\n      <td>80</td>\n      <td>-20.28</td>\n      <td>44.28</td>\n      <td>299.23</td>\n      <td>4.92</td>\n    </tr>\n    <tr>\n      <th>562</th>\n      <td>562</td>\n      <td>Bilma</td>\n      <td>18</td>\n      <td>NE</td>\n      <td>12</td>\n      <td>18.69</td>\n      <td>12.92</td>\n      <td>299.67</td>\n      <td>3.46</td>\n    </tr>\n    <tr>\n      <th>563</th>\n      <td>563</td>\n      <td>Ocampo</td>\n      <td>4</td>\n      <td>MX</td>\n      <td>11</td>\n      <td>21.65</td>\n      <td>-101.50</td>\n      <td>300.26</td>\n      <td>5.65</td>\n    </tr>\n    <tr>\n      <th>564</th>\n      <td>564</td>\n      <td>Bowen</td>\n      <td>40</td>\n      <td>AU</td>\n      <td>88</td>\n      <td>-20.02</td>\n      <td>148.23</td>\n      <td>297.59</td>\n      <td>4.60</td>\n    </tr>\n    <tr>\n      <th>565</th>\n      <td>565</td>\n      <td>Port-Gentil</td>\n      <td>31</td>\n      <td>GA</td>\n      <td>82</td>\n      <td>-0.72</td>\n      <td>8.78</td>\n      <td>300.88</td>\n      <td>5.21</td>\n    </tr>\n  </tbody>\n</table>\n<p>566 rows × 9 columns</p>\n</div>"
     },
     "metadata": {},
     "execution_count": 10
    }
   ],
   "source": [
    "path = \"weather.csv\"\n",
    "\n",
    "gmaps_df = pd.read_csv(path)\n",
    "\n",
    "gmaps_df\n",
    ""
   ]
  },
  {
   "cell_type": "markdown",
   "metadata": {},
   "source": [
    "### Humidity Heatmap\n",
    "* Configure gmaps.\n",
    "* Use the Lat and Lng as locations and Humidity as the weight.\n",
    "* Add Heatmap layer to map."
   ]
  },
  {
   "cell_type": "code",
   "execution_count": 16,
   "metadata": {},
   "outputs": [],
   "source": [
    "gmaps.configure(api_key=g_key)\n",
    "map_df = gmaps_df[['Latitude','Longitude']]\n",
    "\n",
    ""
   ]
  },
  {
   "cell_type": "code",
   "execution_count": 17,
   "metadata": {},
   "outputs": [
    {
     "output_type": "display_data",
     "data": {
      "text/plain": "Figure(layout=FigureLayout(height='420px'))",
      "application/vnd.jupyter.widget-view+json": {
       "version_major": 2,
       "version_minor": 0,
       "model_id": "2884e09e6d17411d9d8bd5d5bd890781"
      }
     },
     "metadata": {}
    }
   ],
   "source": [
    "fig = gmaps.figure()\n",
    "\n",
    "heat_layer = gmaps.heatmap_layer(map_df, weights = gmaps_df['Humidity'], dissipating = False,                                     max_intensity=100, point_radius = 1)\n",
    "\n",
    "fig.add_layer(heat_layer)\n",
    "\n",
    "fig"
   ]
  },
  {
   "cell_type": "markdown",
   "metadata": {},
   "source": [
    "### Create new DataFrame fitting weather criteria\n",
    "* Narrow down the cities to fit weather conditions.\n",
    "* Drop any rows will null values."
   ]
  },
  {
   "cell_type": "code",
   "execution_count": 22,
   "metadata": {},
   "outputs": [
    {
     "output_type": "execute_result",
     "data": {
      "text/plain": "     Unnamed: 0              City  Cloudiness Country  Humidity  Latitude  \\\n9             9              Tura           0      IN        34     25.52   \n19           19           Niquero           0      CU        48     20.04   \n38           38             Nālūt           0      LY        28     30.33   \n43           43            Athani           0      IN        48     16.73   \n46           46   Arraial do Cabo           0      BR        61    -22.97   \n77           77             Maţāy           0      EG        52     28.42   \n80           80      Verkhotur'ye           0      RU        96     58.86   \n81           81          Hurghada           0      EG        53     27.26   \n88           88           Erenhot           0      CN        52     43.65   \n93           93          Grimstad           0      NO        56     58.34   \n109         109     Marsh Harbour           0      BS        62     26.54   \n110         110  Murowana Goślina           0      PL        69     52.57   \n124         124           Emerald           0      AU        88    -23.53   \n151         151   Charters Towers           0      AU        82    -20.10   \n167         167    Guerrero Negro           0      MX        45     27.98   \n181         181      General Roca           0      AR        32    -39.03   \n206         206             Gouvy           0      BE        76     50.19   \n207         207          Yar-Sale           0      RU        93     66.83   \n218         218            Imphal           0      IN        53     24.82   \n223         223          Yashalta           0      RU        52     46.34   \n233         233       Mujiayingzi           0      CN        57     42.12   \n276         276        Karlskrona           0      SE        80     56.16   \n291         291          Calabozo           0      VE        17      8.92   \n301         301            Camalú           0      MX        47     30.85   \n303         303            Viedma           0      AR        29    -40.81   \n307         307          Ajdabiya           0      LY        40     30.76   \n340         340     Alice Springs           0      AU        42    -23.70   \n342         342       Broken Hill           0      AU        55    -31.95   \n345         345          Vallenar           0      CL        26    -28.57   \n346         346       Zhanakorgan           0      KZ        47     43.91   \n366         366          Chapulco           0      MX        19     18.61   \n378         378       San Quintín           0      MX        51     30.48   \n406         406        Colchester           0      GB        56     51.89   \n409         409            Sayyan           0      YE        31     15.17   \n414         414             Bayan           0      CN        43     46.08   \n425         425           Litovko           0      RU        87     49.24   \n429         429            Najrān           0      SA        23     17.49   \n436         436           Ushtobe           0      KZ        60     45.25   \n445         445             Khovd           0      MN        51     48.01   \n470         470             Galle           0      LK        80      6.04   \n494         494              Puri           0      IN        94     19.80   \n507         507          Benghazi           0      LY        47     32.12   \n511         511   Lázaro Cárdenas           0      MX        59     17.96   \n515         515           Kaitong           0      CN        75     44.81   \n530         530         Nawabshah           0      PK        60     26.25   \n538         538             Altay           0      CN        67     47.87   \n550         550              Esna           0      EG        31     25.29   \n556         556              Nāwa           0      IN        50     27.02   \n557         557         Mount Isa           0      AU        38    -20.73   \n561         561         Morondava           0      MG        80    -20.28   \n\n     Longitude  Max Temp  Windspeed  \n9        90.22    295.19       1.09  \n19      -77.58    302.68       3.76  \n38       10.85    288.32       0.39  \n43       75.07    297.74       2.25  \n46      -42.03    301.15       5.10  \n77       30.78    292.55       8.98  \n80       60.81    270.16       2.30  \n81       33.81    298.15       3.60  \n88      111.98    270.69       5.29  \n93        8.59    280.15       3.60  \n109     -77.06    295.98       4.51  \n110      17.01    281.48       1.00  \n124     148.17    293.15       3.10  \n151     146.27    293.75       3.91  \n167    -114.06    289.94       9.43  \n181     -67.58    302.15       2.10  \n206       5.94    282.15       1.00  \n207      70.83    261.99       5.36  \n218      93.95    290.27       0.79  \n223      42.28    281.08       7.26  \n233     118.78    269.37       3.31  \n276      15.59    275.15       1.00  \n291     -67.43    311.37       2.48  \n301    -116.07    288.63       6.71  \n303     -63.00    302.99       6.52  \n307      20.23    287.59       2.12  \n340     133.88    291.15       2.60  \n342     141.43    292.15       3.10  \n345     -70.76    298.18       3.84  \n346      67.25    280.96       3.78  \n366     -97.42    304.26       2.68  \n378    -115.95    288.27       8.07  \n406       0.90    280.93       4.60  \n409      44.32    288.08       0.54  \n414     127.40    270.37       5.57  \n425     135.17    264.83       5.51  \n429      44.13    301.15       2.10  \n436      77.98    276.47       0.60  \n445      91.64    267.76       3.01  \n470      80.22    298.52       1.58  \n494      85.85    300.15       4.28  \n507      20.07    288.19       4.10  \n511    -102.20    302.19       5.31  \n515     123.15    267.96       4.06  \n530      68.41    295.15       4.10  \n538      88.12    268.41       2.92  \n550      32.55    298.15       3.10  \n556      75.00    292.28       2.44  \n557     139.50    297.15       3.10  \n561      44.28    299.23       4.92  ",
      "text/html": "<div>\n<style scoped>\n    .dataframe tbody tr th:only-of-type {\n        vertical-align: middle;\n    }\n\n    .dataframe tbody tr th {\n        vertical-align: top;\n    }\n\n    .dataframe thead th {\n        text-align: right;\n    }\n</style>\n<table border=\"1\" class=\"dataframe\">\n  <thead>\n    <tr style=\"text-align: right;\">\n      <th></th>\n      <th>Unnamed: 0</th>\n      <th>City</th>\n      <th>Cloudiness</th>\n      <th>Country</th>\n      <th>Humidity</th>\n      <th>Latitude</th>\n      <th>Longitude</th>\n      <th>Max Temp</th>\n      <th>Windspeed</th>\n    </tr>\n  </thead>\n  <tbody>\n    <tr>\n      <th>9</th>\n      <td>9</td>\n      <td>Tura</td>\n      <td>0</td>\n      <td>IN</td>\n      <td>34</td>\n      <td>25.52</td>\n      <td>90.22</td>\n      <td>295.19</td>\n      <td>1.09</td>\n    </tr>\n    <tr>\n      <th>19</th>\n      <td>19</td>\n      <td>Niquero</td>\n      <td>0</td>\n      <td>CU</td>\n      <td>48</td>\n      <td>20.04</td>\n      <td>-77.58</td>\n      <td>302.68</td>\n      <td>3.76</td>\n    </tr>\n    <tr>\n      <th>38</th>\n      <td>38</td>\n      <td>Nālūt</td>\n      <td>0</td>\n      <td>LY</td>\n      <td>28</td>\n      <td>30.33</td>\n      <td>10.85</td>\n      <td>288.32</td>\n      <td>0.39</td>\n    </tr>\n    <tr>\n      <th>43</th>\n      <td>43</td>\n      <td>Athani</td>\n      <td>0</td>\n      <td>IN</td>\n      <td>48</td>\n      <td>16.73</td>\n      <td>75.07</td>\n      <td>297.74</td>\n      <td>2.25</td>\n    </tr>\n    <tr>\n      <th>46</th>\n      <td>46</td>\n      <td>Arraial do Cabo</td>\n      <td>0</td>\n      <td>BR</td>\n      <td>61</td>\n      <td>-22.97</td>\n      <td>-42.03</td>\n      <td>301.15</td>\n      <td>5.10</td>\n    </tr>\n    <tr>\n      <th>77</th>\n      <td>77</td>\n      <td>Maţāy</td>\n      <td>0</td>\n      <td>EG</td>\n      <td>52</td>\n      <td>28.42</td>\n      <td>30.78</td>\n      <td>292.55</td>\n      <td>8.98</td>\n    </tr>\n    <tr>\n      <th>80</th>\n      <td>80</td>\n      <td>Verkhotur'ye</td>\n      <td>0</td>\n      <td>RU</td>\n      <td>96</td>\n      <td>58.86</td>\n      <td>60.81</td>\n      <td>270.16</td>\n      <td>2.30</td>\n    </tr>\n    <tr>\n      <th>81</th>\n      <td>81</td>\n      <td>Hurghada</td>\n      <td>0</td>\n      <td>EG</td>\n      <td>53</td>\n      <td>27.26</td>\n      <td>33.81</td>\n      <td>298.15</td>\n      <td>3.60</td>\n    </tr>\n    <tr>\n      <th>88</th>\n      <td>88</td>\n      <td>Erenhot</td>\n      <td>0</td>\n      <td>CN</td>\n      <td>52</td>\n      <td>43.65</td>\n      <td>111.98</td>\n      <td>270.69</td>\n      <td>5.29</td>\n    </tr>\n    <tr>\n      <th>93</th>\n      <td>93</td>\n      <td>Grimstad</td>\n      <td>0</td>\n      <td>NO</td>\n      <td>56</td>\n      <td>58.34</td>\n      <td>8.59</td>\n      <td>280.15</td>\n      <td>3.60</td>\n    </tr>\n    <tr>\n      <th>109</th>\n      <td>109</td>\n      <td>Marsh Harbour</td>\n      <td>0</td>\n      <td>BS</td>\n      <td>62</td>\n      <td>26.54</td>\n      <td>-77.06</td>\n      <td>295.98</td>\n      <td>4.51</td>\n    </tr>\n    <tr>\n      <th>110</th>\n      <td>110</td>\n      <td>Murowana Goślina</td>\n      <td>0</td>\n      <td>PL</td>\n      <td>69</td>\n      <td>52.57</td>\n      <td>17.01</td>\n      <td>281.48</td>\n      <td>1.00</td>\n    </tr>\n    <tr>\n      <th>124</th>\n      <td>124</td>\n      <td>Emerald</td>\n      <td>0</td>\n      <td>AU</td>\n      <td>88</td>\n      <td>-23.53</td>\n      <td>148.17</td>\n      <td>293.15</td>\n      <td>3.10</td>\n    </tr>\n    <tr>\n      <th>151</th>\n      <td>151</td>\n      <td>Charters Towers</td>\n      <td>0</td>\n      <td>AU</td>\n      <td>82</td>\n      <td>-20.10</td>\n      <td>146.27</td>\n      <td>293.75</td>\n      <td>3.91</td>\n    </tr>\n    <tr>\n      <th>167</th>\n      <td>167</td>\n      <td>Guerrero Negro</td>\n      <td>0</td>\n      <td>MX</td>\n      <td>45</td>\n      <td>27.98</td>\n      <td>-114.06</td>\n      <td>289.94</td>\n      <td>9.43</td>\n    </tr>\n    <tr>\n      <th>181</th>\n      <td>181</td>\n      <td>General Roca</td>\n      <td>0</td>\n      <td>AR</td>\n      <td>32</td>\n      <td>-39.03</td>\n      <td>-67.58</td>\n      <td>302.15</td>\n      <td>2.10</td>\n    </tr>\n    <tr>\n      <th>206</th>\n      <td>206</td>\n      <td>Gouvy</td>\n      <td>0</td>\n      <td>BE</td>\n      <td>76</td>\n      <td>50.19</td>\n      <td>5.94</td>\n      <td>282.15</td>\n      <td>1.00</td>\n    </tr>\n    <tr>\n      <th>207</th>\n      <td>207</td>\n      <td>Yar-Sale</td>\n      <td>0</td>\n      <td>RU</td>\n      <td>93</td>\n      <td>66.83</td>\n      <td>70.83</td>\n      <td>261.99</td>\n      <td>5.36</td>\n    </tr>\n    <tr>\n      <th>218</th>\n      <td>218</td>\n      <td>Imphal</td>\n      <td>0</td>\n      <td>IN</td>\n      <td>53</td>\n      <td>24.82</td>\n      <td>93.95</td>\n      <td>290.27</td>\n      <td>0.79</td>\n    </tr>\n    <tr>\n      <th>223</th>\n      <td>223</td>\n      <td>Yashalta</td>\n      <td>0</td>\n      <td>RU</td>\n      <td>52</td>\n      <td>46.34</td>\n      <td>42.28</td>\n      <td>281.08</td>\n      <td>7.26</td>\n    </tr>\n    <tr>\n      <th>233</th>\n      <td>233</td>\n      <td>Mujiayingzi</td>\n      <td>0</td>\n      <td>CN</td>\n      <td>57</td>\n      <td>42.12</td>\n      <td>118.78</td>\n      <td>269.37</td>\n      <td>3.31</td>\n    </tr>\n    <tr>\n      <th>276</th>\n      <td>276</td>\n      <td>Karlskrona</td>\n      <td>0</td>\n      <td>SE</td>\n      <td>80</td>\n      <td>56.16</td>\n      <td>15.59</td>\n      <td>275.15</td>\n      <td>1.00</td>\n    </tr>\n    <tr>\n      <th>291</th>\n      <td>291</td>\n      <td>Calabozo</td>\n      <td>0</td>\n      <td>VE</td>\n      <td>17</td>\n      <td>8.92</td>\n      <td>-67.43</td>\n      <td>311.37</td>\n      <td>2.48</td>\n    </tr>\n    <tr>\n      <th>301</th>\n      <td>301</td>\n      <td>Camalú</td>\n      <td>0</td>\n      <td>MX</td>\n      <td>47</td>\n      <td>30.85</td>\n      <td>-116.07</td>\n      <td>288.63</td>\n      <td>6.71</td>\n    </tr>\n    <tr>\n      <th>303</th>\n      <td>303</td>\n      <td>Viedma</td>\n      <td>0</td>\n      <td>AR</td>\n      <td>29</td>\n      <td>-40.81</td>\n      <td>-63.00</td>\n      <td>302.99</td>\n      <td>6.52</td>\n    </tr>\n    <tr>\n      <th>307</th>\n      <td>307</td>\n      <td>Ajdabiya</td>\n      <td>0</td>\n      <td>LY</td>\n      <td>40</td>\n      <td>30.76</td>\n      <td>20.23</td>\n      <td>287.59</td>\n      <td>2.12</td>\n    </tr>\n    <tr>\n      <th>340</th>\n      <td>340</td>\n      <td>Alice Springs</td>\n      <td>0</td>\n      <td>AU</td>\n      <td>42</td>\n      <td>-23.70</td>\n      <td>133.88</td>\n      <td>291.15</td>\n      <td>2.60</td>\n    </tr>\n    <tr>\n      <th>342</th>\n      <td>342</td>\n      <td>Broken Hill</td>\n      <td>0</td>\n      <td>AU</td>\n      <td>55</td>\n      <td>-31.95</td>\n      <td>141.43</td>\n      <td>292.15</td>\n      <td>3.10</td>\n    </tr>\n    <tr>\n      <th>345</th>\n      <td>345</td>\n      <td>Vallenar</td>\n      <td>0</td>\n      <td>CL</td>\n      <td>26</td>\n      <td>-28.57</td>\n      <td>-70.76</td>\n      <td>298.18</td>\n      <td>3.84</td>\n    </tr>\n    <tr>\n      <th>346</th>\n      <td>346</td>\n      <td>Zhanakorgan</td>\n      <td>0</td>\n      <td>KZ</td>\n      <td>47</td>\n      <td>43.91</td>\n      <td>67.25</td>\n      <td>280.96</td>\n      <td>3.78</td>\n    </tr>\n    <tr>\n      <th>366</th>\n      <td>366</td>\n      <td>Chapulco</td>\n      <td>0</td>\n      <td>MX</td>\n      <td>19</td>\n      <td>18.61</td>\n      <td>-97.42</td>\n      <td>304.26</td>\n      <td>2.68</td>\n    </tr>\n    <tr>\n      <th>378</th>\n      <td>378</td>\n      <td>San Quintín</td>\n      <td>0</td>\n      <td>MX</td>\n      <td>51</td>\n      <td>30.48</td>\n      <td>-115.95</td>\n      <td>288.27</td>\n      <td>8.07</td>\n    </tr>\n    <tr>\n      <th>406</th>\n      <td>406</td>\n      <td>Colchester</td>\n      <td>0</td>\n      <td>GB</td>\n      <td>56</td>\n      <td>51.89</td>\n      <td>0.90</td>\n      <td>280.93</td>\n      <td>4.60</td>\n    </tr>\n    <tr>\n      <th>409</th>\n      <td>409</td>\n      <td>Sayyan</td>\n      <td>0</td>\n      <td>YE</td>\n      <td>31</td>\n      <td>15.17</td>\n      <td>44.32</td>\n      <td>288.08</td>\n      <td>0.54</td>\n    </tr>\n    <tr>\n      <th>414</th>\n      <td>414</td>\n      <td>Bayan</td>\n      <td>0</td>\n      <td>CN</td>\n      <td>43</td>\n      <td>46.08</td>\n      <td>127.40</td>\n      <td>270.37</td>\n      <td>5.57</td>\n    </tr>\n    <tr>\n      <th>425</th>\n      <td>425</td>\n      <td>Litovko</td>\n      <td>0</td>\n      <td>RU</td>\n      <td>87</td>\n      <td>49.24</td>\n      <td>135.17</td>\n      <td>264.83</td>\n      <td>5.51</td>\n    </tr>\n    <tr>\n      <th>429</th>\n      <td>429</td>\n      <td>Najrān</td>\n      <td>0</td>\n      <td>SA</td>\n      <td>23</td>\n      <td>17.49</td>\n      <td>44.13</td>\n      <td>301.15</td>\n      <td>2.10</td>\n    </tr>\n    <tr>\n      <th>436</th>\n      <td>436</td>\n      <td>Ushtobe</td>\n      <td>0</td>\n      <td>KZ</td>\n      <td>60</td>\n      <td>45.25</td>\n      <td>77.98</td>\n      <td>276.47</td>\n      <td>0.60</td>\n    </tr>\n    <tr>\n      <th>445</th>\n      <td>445</td>\n      <td>Khovd</td>\n      <td>0</td>\n      <td>MN</td>\n      <td>51</td>\n      <td>48.01</td>\n      <td>91.64</td>\n      <td>267.76</td>\n      <td>3.01</td>\n    </tr>\n    <tr>\n      <th>470</th>\n      <td>470</td>\n      <td>Galle</td>\n      <td>0</td>\n      <td>LK</td>\n      <td>80</td>\n      <td>6.04</td>\n      <td>80.22</td>\n      <td>298.52</td>\n      <td>1.58</td>\n    </tr>\n    <tr>\n      <th>494</th>\n      <td>494</td>\n      <td>Puri</td>\n      <td>0</td>\n      <td>IN</td>\n      <td>94</td>\n      <td>19.80</td>\n      <td>85.85</td>\n      <td>300.15</td>\n      <td>4.28</td>\n    </tr>\n    <tr>\n      <th>507</th>\n      <td>507</td>\n      <td>Benghazi</td>\n      <td>0</td>\n      <td>LY</td>\n      <td>47</td>\n      <td>32.12</td>\n      <td>20.07</td>\n      <td>288.19</td>\n      <td>4.10</td>\n    </tr>\n    <tr>\n      <th>511</th>\n      <td>511</td>\n      <td>Lázaro Cárdenas</td>\n      <td>0</td>\n      <td>MX</td>\n      <td>59</td>\n      <td>17.96</td>\n      <td>-102.20</td>\n      <td>302.19</td>\n      <td>5.31</td>\n    </tr>\n    <tr>\n      <th>515</th>\n      <td>515</td>\n      <td>Kaitong</td>\n      <td>0</td>\n      <td>CN</td>\n      <td>75</td>\n      <td>44.81</td>\n      <td>123.15</td>\n      <td>267.96</td>\n      <td>4.06</td>\n    </tr>\n    <tr>\n      <th>530</th>\n      <td>530</td>\n      <td>Nawabshah</td>\n      <td>0</td>\n      <td>PK</td>\n      <td>60</td>\n      <td>26.25</td>\n      <td>68.41</td>\n      <td>295.15</td>\n      <td>4.10</td>\n    </tr>\n    <tr>\n      <th>538</th>\n      <td>538</td>\n      <td>Altay</td>\n      <td>0</td>\n      <td>CN</td>\n      <td>67</td>\n      <td>47.87</td>\n      <td>88.12</td>\n      <td>268.41</td>\n      <td>2.92</td>\n    </tr>\n    <tr>\n      <th>550</th>\n      <td>550</td>\n      <td>Esna</td>\n      <td>0</td>\n      <td>EG</td>\n      <td>31</td>\n      <td>25.29</td>\n      <td>32.55</td>\n      <td>298.15</td>\n      <td>3.10</td>\n    </tr>\n    <tr>\n      <th>556</th>\n      <td>556</td>\n      <td>Nāwa</td>\n      <td>0</td>\n      <td>IN</td>\n      <td>50</td>\n      <td>27.02</td>\n      <td>75.00</td>\n      <td>292.28</td>\n      <td>2.44</td>\n    </tr>\n    <tr>\n      <th>557</th>\n      <td>557</td>\n      <td>Mount Isa</td>\n      <td>0</td>\n      <td>AU</td>\n      <td>38</td>\n      <td>-20.73</td>\n      <td>139.50</td>\n      <td>297.15</td>\n      <td>3.10</td>\n    </tr>\n    <tr>\n      <th>561</th>\n      <td>561</td>\n      <td>Morondava</td>\n      <td>0</td>\n      <td>MG</td>\n      <td>80</td>\n      <td>-20.28</td>\n      <td>44.28</td>\n      <td>299.23</td>\n      <td>4.92</td>\n    </tr>\n  </tbody>\n</table>\n</div>"
     },
     "metadata": {},
     "execution_count": 22
    }
   ],
   "source": [
    "#A max temperature lower than 80 degrees but higher than 70\n",
    "#Wind speed less than 10 mph\n",
    "#Zero cloudiness.\n",
    "#Drop any rows that don't contain all three conditions. You want to be sure the weather is ideal\n",
    "\n",
    "\n",
    "favorable_df = gmaps_df.loc[ (gmaps_df['Cloudiness'] == 0) ]\n",
    "#(gmaps_df['Max Temp'] >= 70) & (gmaps_df['Max Temp'] <= 80) & (gmaps_df['Windspeed'] <= 10) &\n",
    "favorable_df = favorable_df.dropna()\n",
    "favorable_df\n",
    ""
   ]
  },
  {
   "cell_type": "markdown",
   "metadata": {},
   "source": [
    "### Hotel Map\n",
    "* Store into variable named `hotel_df`.\n",
    "* Add a \"Hotel Name\" column to the DataFrame.\n",
    "* Set parameters to search for hotels with 5000 meters.\n",
    "* Hit the Google Places API for each city's coordinates.\n",
    "* Store the first Hotel result into the DataFrame.\n",
    "* Plot markers on top of the heatmap."
   ]
  },
  {
   "cell_type": "code",
   "execution_count": null,
   "metadata": {},
   "outputs": [],
   "source": []
  },
  {
   "cell_type": "code",
   "execution_count": null,
   "metadata": {},
   "outputs": [],
   "source": []
  },
  {
   "cell_type": "code",
   "execution_count": 13,
   "metadata": {},
   "outputs": [],
   "source": [
    "\n",
    ""
   ]
  },
  {
   "cell_type": "code",
   "execution_count": 14,
   "metadata": {},
   "outputs": [
    {
     "output_type": "error",
     "ename": "NameError",
     "evalue": "name 'narrowed_city_df' is not defined",
     "traceback": [
      "\u001b[1;31m---------------------------------------------------------------------------\u001b[0m",
      "\u001b[1;31mNameError\u001b[0m                                 Traceback (most recent call last)",
      "\u001b[1;32m<ipython-input-14-f8dffc31712f>\u001b[0m in \u001b[0;36m<module>\u001b[1;34m\u001b[0m\n\u001b[0;32m     11\u001b[0m \u001b[1;31m# Store the DataFrame Row\u001b[0m\u001b[1;33m\u001b[0m\u001b[1;33m\u001b[0m\u001b[1;33m\u001b[0m\u001b[0m\n\u001b[0;32m     12\u001b[0m \u001b[1;31m# NOTE: be sure to update with your DataFrame name\u001b[0m\u001b[1;33m\u001b[0m\u001b[1;33m\u001b[0m\u001b[1;33m\u001b[0m\u001b[0m\n\u001b[1;32m---> 13\u001b[1;33m \u001b[0mhotel_info\u001b[0m \u001b[1;33m=\u001b[0m \u001b[1;33m[\u001b[0m\u001b[0minfo_box_template\u001b[0m\u001b[1;33m.\u001b[0m\u001b[0mformat\u001b[0m\u001b[1;33m(\u001b[0m\u001b[1;33m**\u001b[0m\u001b[0mrow\u001b[0m\u001b[1;33m)\u001b[0m \u001b[1;32mfor\u001b[0m \u001b[0mindex\u001b[0m\u001b[1;33m,\u001b[0m \u001b[0mrow\u001b[0m \u001b[1;32min\u001b[0m \u001b[0mnarrowed_city_df\u001b[0m\u001b[1;33m.\u001b[0m\u001b[0miterrows\u001b[0m\u001b[1;33m(\u001b[0m\u001b[1;33m)\u001b[0m\u001b[1;33m]\u001b[0m\u001b[1;33m\u001b[0m\u001b[1;33m\u001b[0m\u001b[0m\n\u001b[0m\u001b[0;32m     14\u001b[0m \u001b[0mlocations\u001b[0m \u001b[1;33m=\u001b[0m \u001b[0mhotel_df\u001b[0m\u001b[1;33m[\u001b[0m\u001b[1;33m[\u001b[0m\u001b[1;34m\"Lat\"\u001b[0m\u001b[1;33m,\u001b[0m \u001b[1;34m\"Lng\"\u001b[0m\u001b[1;33m]\u001b[0m\u001b[1;33m]\u001b[0m\u001b[1;33m\u001b[0m\u001b[1;33m\u001b[0m\u001b[0m\n",
      "\u001b[1;31mNameError\u001b[0m: name 'narrowed_city_df' is not defined"
     ]
    }
   ],
   "source": [
    "# NOTE: Do not change any of the code in this cell\n",
    "\n",
    "# Using the template add the hotel marks to the heatmap\n",
    "info_box_template = \"\"\"\n",
    "<dl>\n",
    "<dt>Name</dt><dd>{Hotel Name}</dd>\n",
    "<dt>City</dt><dd>{City}</dd>\n",
    "<dt>Country</dt><dd>{Country}</dd>\n",
    "</dl>\n",
    "\"\"\"\n",
    "# Store the DataFrame Row\n",
    "# NOTE: be sure to update with your DataFrame name\n",
    "hotel_info = [info_box_template.format(**row) for index, row in narrowed_city_df.iterrows()]\n",
    "locations = hotel_df[[\"Lat\", \"Lng\"]]"
   ]
  },
  {
   "cell_type": "code",
   "execution_count": 15,
   "metadata": {},
   "outputs": [],
   "source": [
    "# Add marker layer ontop of heat map\n",
    "\n",
    "\n",
    "# Display Map"
   ]
  }
 ],
 "metadata": {
  "kernelspec": {
   "display_name": "Python 3.6.10 64-bit ('PythonData': conda)",
   "language": "python",
   "name": "python361064bitpythondatacondaaf81a7b96d5a421095499aa2d7d5f43d"
  },
  "language_info": {
   "codemirror_mode": {
    "name": "ipython",
    "version": 3
   },
   "file_extension": ".py",
   "mimetype": "text/x-python",
   "name": "python",
   "nbconvert_exporter": "python",
   "pygments_lexer": "ipython3",
   "version": "3.6.10-final"
  },
  "latex_envs": {
   "LaTeX_envs_menu_present": true,
   "autoclose": false,
   "autocomplete": true,
   "bibliofile": "biblio.bib",
   "cite_by": "apalike",
   "current_citInitial": 1,
   "eqLabelWithNumbers": true,
   "eqNumInitial": 1,
   "hotkeys": {
    "equation": "Ctrl-E",
    "itemize": "Ctrl-I"
   },
   "labels_anchors": false,
   "latex_user_defs": false,
   "report_style_numbering": false,
   "user_envs_cfg": false
  }
 },
 "nbformat": 4,
 "nbformat_minor": 2
}